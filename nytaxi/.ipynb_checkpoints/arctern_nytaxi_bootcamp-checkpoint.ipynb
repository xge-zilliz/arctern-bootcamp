{
 "cells": [
  {
   "cell_type": "markdown",
   "metadata": {},
   "source": [
    "本文将介绍如何利用 Arctern 处理纽约出租车数据，同时结合 Keplergl 展示数据。\n",
    "\n",
    "首先需要加载数据："
   ]
  },
  {
   "cell_type": "code",
   "execution_count": 2,
   "metadata": {},
   "outputs": [],
   "source": [
    "import pandas as pd\n",
    "nyc_schame={\n",
    "    \"VendorID\":\"string\",\n",
    "    \"tpep_pickup_datetime\":\"string\",\n",
    "    \"tpep_dropoff_datetime\":\"string\",\n",
    "    \"passenger_count\":\"int64\",\n",
    "    \"trip_distance\":\"double\",\n",
    "    \"pickup_longitude\":\"double\",\n",
    "    \"pickup_latitude\":\"double\",\n",
    "    \"dropoff_longitude\":\"double\",\n",
    "    \"dropoff_latitude\":\"double\",\n",
    "    \"fare_amount\":\"double\",\n",
    "    \"tip_amount\":\"double\",\n",
    "    \"total_amount\":\"double\",\n",
    "    \"buildingid_pickup\":\"int64\",\n",
    "    \"buildingid_dropoff\":\"int64\",\n",
    "    \"buildingtext_pickup\":\"string\",\n",
    "    \"buildingtext_dropoff\":\"string\",\n",
    "}\n",
    "nyc_df=pd.read_csv(\"/tmp/0_2M_nyc_taxi_and_building.csv\",\n",
    "               dtype=nyc_schame,\n",
    "               date_parser=pd.to_datetime,\n",
    "               parse_dates=[\"tpep_pickup_datetime\",\"tpep_dropoff_datetime\"])"
   ]
  },
  {
   "cell_type": "markdown",
   "metadata": {},
   "source": [
    "展示所有上车点的位置："
   ]
  },
  {
   "cell_type": "code",
   "execution_count": 5,
   "metadata": {},
   "outputs": [
    {
     "name": "stdout",
     "output_type": "stream",
     "text": [
      "User Guide: https://docs.kepler.gl/docs/keplergl-jupyter\n"
     ]
    },
    {
     "data": {
      "application/vnd.jupyter.widget-view+json": {
       "model_id": "899c6d2a252c4a989f26610e82ebadfb",
       "version_major": 2,
       "version_minor": 0
      },
      "text/plain": [
       "KeplerGl(data={'pickup_points':                        pickup_points\n",
       "0       POINT (-73.993003 40.747594)\n",
       "1   …"
      ]
     },
     "metadata": {},
     "output_type": "display_data"
    }
   ],
   "source": [
    "import arctern\n",
    "from keplergl import KeplerGl\n",
    "\n",
    "pickup_points = arctern.ST_Point(nyc_df.pickup_longitude,nyc_df.pickup_latitude)\n",
    "KeplerGl(data={\"pickup_points\": pd.DataFrame(data={'pickup_points':arctern.ST_AsText(pickup_points)})})"
   ]
  },
  {
   "cell_type": "markdown",
   "metadata": {},
   "source": [
    "返回的结果在地图上支持交互操作，可以发现输入的出租车数据存有噪点，有些上车点已经到海面上了，实际上所有数据应该都集中在陆地上才是合理的，这些噪点数据就需要我们通过一定的方法进行过滤。\n",
    "\n",
    "为了正确分析纽约市区中的出租车数据，接下来我们会根据纽约市的地形图来过滤数据，即不在纽约市地图中的数据视为噪点数据并进行过滤。"
   ]
  },
  {
   "cell_type": "markdown",
   "metadata": {},
   "source": [
    "首先我们读取纽约市的地形数据图，该地形数据是以 GeoJSON 格式存储的，首先使用 Arctern 解析 GeoJSON 数据："
   ]
  },
  {
   "cell_type": "code",
   "execution_count": 3,
   "metadata": {},
   "outputs": [
    {
     "data": {
      "text/plain": [
       "0    MULTIPOLYGON (((-8226155.13045259 4982269.9492...\n",
       "1    MULTIPOLYGON (((-8243264.85067129 4948597.8364...\n",
       "2    MULTIPOLYGON (((-8222843.67198779 4950893.7925...\n",
       "3    MULTIPOLYGON (((-8219461.92460008 4952778.7319...\n",
       "4    MULTIPOLYGON (((-8238858.86403699 4965915.0243...\n",
       "dtype: object"
      ]
     },
     "execution_count": 3,
     "metadata": {},
     "output_type": "execute_result"
    }
   ],
   "source": [
    "import shapefile\n",
    "import json\n",
    "# 读取纽约市的地形数据图\n",
    "nyc_shape = shapefile.Reader(\"/tmp/taxi_zones/taxi_zones.shp\")\n",
    "nyc_zone=[ shp.shape.__geo_interface__  for shp in nyc_shape.shapeRecords()]\n",
    "nyc_zone=[json.dumps(shp) for shp in nyc_zone]\n",
    "# 使用 Arctern 读取数据\n",
    "nyc_zone_series=pd.Series(nyc_zone)\n",
    "nyc_zone_arctern=arctern.ST_GeomFromGeoJSON(nyc_zone_series)\n",
    "arctern.ST_AsText(nyc_zone_arctern)"
   ]
  },
  {
   "cell_type": "markdown",
   "metadata": {},
   "source": [
    "获得当前纽约市地形数据文件的坐标系，并利用 Arctern 将该坐标系转成经纬度坐标系，即 “EPSG:4326” ："
   ]
  },
  {
   "cell_type": "code",
   "execution_count": 3,
   "metadata": {},
   "outputs": [
    {
     "ename": "NameError",
     "evalue": "name 'arctern' is not defined",
     "output_type": "error",
     "traceback": [
      "\u001b[0;31m---------------------------------------------------------------------------\u001b[0m",
      "\u001b[0;31mNameError\u001b[0m                                 Traceback (most recent call last)",
      "\u001b[0;32m<ipython-input-3-04fe9e02ca4e>\u001b[0m in \u001b[0;36m<module>\u001b[0;34m\u001b[0m\n\u001b[1;32m      3\u001b[0m \u001b[0mident\u001b[0m\u001b[0;34m.\u001b[0m\u001b[0mfrom_file\u001b[0m\u001b[0;34m(\u001b[0m\u001b[0;34m'/tmp/taxi_zones/taxi_zones.prj'\u001b[0m\u001b[0;34m)\u001b[0m\u001b[0;34m\u001b[0m\u001b[0;34m\u001b[0m\u001b[0m\n\u001b[1;32m      4\u001b[0m \u001b[0msrc_crs\u001b[0m \u001b[0;34m=\u001b[0m \u001b[0mident\u001b[0m\u001b[0;34m.\u001b[0m\u001b[0mget_epsg\u001b[0m\u001b[0;34m(\u001b[0m\u001b[0;34m)\u001b[0m\u001b[0;34m\u001b[0m\u001b[0;34m\u001b[0m\u001b[0m\n\u001b[0;32m----> 5\u001b[0;31m \u001b[0mnyc_arctern_4326\u001b[0m \u001b[0;34m=\u001b[0m \u001b[0marctern\u001b[0m\u001b[0;34m.\u001b[0m\u001b[0mST_Transform\u001b[0m\u001b[0;34m(\u001b[0m\u001b[0mnyc_zone_arctern\u001b[0m\u001b[0;34m,\u001b[0m\u001b[0;34mf'EPSG:{src_crs}'\u001b[0m\u001b[0;34m,\u001b[0m\u001b[0;34m'EPSG:4326'\u001b[0m\u001b[0;34m)\u001b[0m\u001b[0;34m\u001b[0m\u001b[0;34m\u001b[0m\u001b[0m\n\u001b[0m\u001b[1;32m      6\u001b[0m \u001b[0marctern\u001b[0m\u001b[0;34m.\u001b[0m\u001b[0mST_AsText\u001b[0m\u001b[0;34m(\u001b[0m\u001b[0mnyc_arctern_4326\u001b[0m\u001b[0;34m)\u001b[0m\u001b[0;34m\u001b[0m\u001b[0;34m\u001b[0m\u001b[0m\n",
      "\u001b[0;31mNameError\u001b[0m: name 'arctern' is not defined"
     ]
    }
   ],
   "source": [
    "from sridentify import Sridentify\n",
    "ident = Sridentify()\n",
    "ident.from_file('/tmp/taxi_zones/taxi_zones.prj')\n",
    "src_crs = ident.get_epsg()\n",
    "nyc_arctern_4326 = arctern.ST_Transform(nyc_zone_arctern,f'EPSG:{src_crs}','EPSG:4326')\n",
    "arctern.ST_AsText(nyc_arctern_4326)"
   ]
  },
  {
   "cell_type": "markdown",
   "metadata": {},
   "source": [
    "根据转换后的经纬度坐标，绘制的纽约市地形图："
   ]
  },
  {
   "cell_type": "code",
   "execution_count": 5,
   "metadata": {},
   "outputs": [
    {
     "name": "stdout",
     "output_type": "stream",
     "text": [
      "User Guide: https://docs.kepler.gl/docs/keplergl-jupyter\n"
     ]
    },
    {
     "data": {
      "application/vnd.jupyter.widget-view+json": {
       "model_id": "a2a1f2ca797f44978474cf0e15213f43",
       "version_major": 2,
       "version_minor": 0
      },
      "text/plain": [
       "KeplerGl(data={'nyc_zones':                                            nyc_zones\n",
       "0  MULTIPOLYGON (((-73.896808…"
      ]
     },
     "metadata": {},
     "output_type": "display_data"
    }
   ],
   "source": [
    "KeplerGl(data={\"nyc_zones\": pd.DataFrame(data={'nyc_zones':arctern.ST_AsText(nyc_arctern_4326)})})"
   ]
  },
  {
   "cell_type": "markdown",
   "metadata": {},
   "source": [
    "为了分析纽约市区中的出租车数据，根据纽约市的地形图，我们认为不在图内的点即为噪点，以此过滤出租车数据中的噪点，首先我们根据纽约市区的轮廓图对上车点进行过滤："
   ]
  },
  {
   "cell_type": "code",
   "execution_count": 6,
   "metadata": {},
   "outputs": [],
   "source": [
    "# 该步骤会比较耗时\n",
    "nyc_arctern_one = arctern.ST_Union_Aggr(nyc_arctern_4326)\n",
    "nyc_arctern_one = arctern.ST_SimplifyPreserveTopology(nyc_arctern_one,0.005)\n",
    "is_in_nyc = arctern.ST_Within(pickup_points,nyc_arctern_one[0])\n",
    "pickup_in_nyc = pickup_points[pd.Series(is_in_nyc)]"
   ]
  },
  {
   "cell_type": "markdown",
   "metadata": {},
   "source": [
    "绘制出数据过滤后的上车点："
   ]
  },
  {
   "cell_type": "code",
   "execution_count": 7,
   "metadata": {},
   "outputs": [
    {
     "name": "stdout",
     "output_type": "stream",
     "text": [
      "User Guide: https://docs.kepler.gl/docs/keplergl-jupyter\n"
     ]
    },
    {
     "data": {
      "application/vnd.jupyter.widget-view+json": {
       "model_id": "00d9926b8ad343988f205058d3fa07b6",
       "version_major": 2,
       "version_minor": 0
      },
      "text/plain": [
       "KeplerGl(data={'pickup_points':                        pickup_points\n",
       "0       POINT (-73.993003 40.747594)\n",
       "1   …"
      ]
     },
     "metadata": {},
     "output_type": "display_data"
    }
   ],
   "source": [
    "KeplerGl(data={\"pickup_points\": pd.DataFrame(data={'pickup_points':arctern.ST_AsText(pickup_in_nyc)})})"
   ]
  },
  {
   "cell_type": "markdown",
   "metadata": {},
   "source": [
    "根据同样的方法，对乘客的下车点进行过滤："
   ]
  },
  {
   "cell_type": "code",
   "execution_count": 8,
   "metadata": {},
   "outputs": [
    {
     "name": "stdout",
     "output_type": "stream",
     "text": [
      "User Guide: https://docs.kepler.gl/docs/keplergl-jupyter\n"
     ]
    },
    {
     "data": {
      "application/vnd.jupyter.widget-view+json": {
       "model_id": "83b03d7408dc4a52b4d7723ff9fd70ce",
       "version_major": 2,
       "version_minor": 0
      },
      "text/plain": [
       "KeplerGl(data={'drop_points':                          drop_points\n",
       "0       POINT (-73.983609 40.760426)\n",
       "1     …"
      ]
     },
     "metadata": {},
     "output_type": "display_data"
    }
   ],
   "source": [
    "# 该步骤会比较耗时\n",
    "dropoff_points = arctern.ST_Point(nyc_df.dropoff_longitude,nyc_df.dropoff_latitude)\n",
    "is_dorpoff_in_nyc = arctern.ST_Within(dropoff_points,nyc_arctern_one[0])\n",
    "dropoff_in_nyc=dropoff_points[is_dorpoff_in_nyc]\n",
    "KeplerGl(data={\"drop_points\": pd.DataFrame(data={'drop_points':arctern.ST_AsText(dropoff_in_nyc)})})"
   ]
  },
  {
   "cell_type": "markdown",
   "metadata": {},
   "source": [
    "根据上车点和下车点经纬度数据，在最初的数据上过滤所有的非法数据："
   ]
  },
  {
   "cell_type": "code",
   "execution_count": 9,
   "metadata": {},
   "outputs": [
    {
     "data": {
      "text/plain": [
       "count    192701.000000\n",
       "mean          9.733092\n",
       "std           7.080015\n",
       "min           2.500000\n",
       "25%           5.700000\n",
       "50%           7.700000\n",
       "75%          11.000000\n",
       "max         175.000000\n",
       "Name: fare_amount, dtype: float64"
      ]
     },
     "execution_count": 9,
     "metadata": {},
     "output_type": "execute_result"
    }
   ],
   "source": [
    "is_resonable = [is_dorpoff_in_nyc[idx] & is_in_nyc[idx] for idx in range(0,len(is_in_nyc)) ]\n",
    "in_nyc_df=nyc_df[pd.Series(is_resonable)]\n",
    "in_nyc_df.fare_amount.describe()"
   ]
  },
  {
   "cell_type": "markdown",
   "metadata": {},
   "source": [
    "我们按照交易额提取费用大于 50 美元的数据，并绘制出租车的上车点和下车点："
   ]
  },
  {
   "cell_type": "code",
   "execution_count": 10,
   "metadata": {},
   "outputs": [
    {
     "name": "stdout",
     "output_type": "stream",
     "text": [
      "User Guide: https://docs.kepler.gl/docs/keplergl-jupyter\n"
     ]
    },
    {
     "data": {
      "application/vnd.jupyter.widget-view+json": {
       "model_id": "59f1d079fcb54c429853514e88af0981",
       "version_major": 2,
       "version_minor": 0
      },
      "text/plain": [
       "KeplerGl(data={'pickup':                            pickup\n",
       "0    POINT (-73.983795 40.737956)\n",
       "1    POINT (-73.7…"
      ]
     },
     "metadata": {},
     "output_type": "display_data"
    }
   ],
   "source": [
    "fare_amount_gt_50 = in_nyc_df[in_nyc_df.fare_amount > 50]\n",
    "pickup_50 = arctern.ST_Point(fare_amount_gt_50.pickup_longitude,fare_amount_gt_50.pickup_latitude)\n",
    "dropoff_50 = arctern.ST_Point(fare_amount_gt_50.dropoff_longitude,fare_amount_gt_50.dropoff_latitude)\n",
    "KeplerGl(data={\"pickup\": pd.DataFrame(data={'pickup':arctern.ST_AsText(pickup_50)}),\n",
    "               \"dropoff\":pd.DataFrame(data={'dropoff':arctern.ST_AsText(dropoff_50)})\n",
    "              })"
   ]
  },
  {
   "cell_type": "markdown",
   "metadata": {},
   "source": [
    "我们还可以计算上车点和下车点的直线距离："
   ]
  },
  {
   "cell_type": "code",
   "execution_count": 11,
   "metadata": {},
   "outputs": [
    {
     "data": {
      "text/plain": [
       "count    192701.000000\n",
       "mean       3134.377530\n",
       "std        3287.693775\n",
       "min           0.000000\n",
       "25%        1224.284192\n",
       "50%        2086.800052\n",
       "75%        3744.355960\n",
       "max       35395.487197\n",
       "dtype: float64"
      ]
     },
     "execution_count": 11,
     "metadata": {},
     "output_type": "execute_result"
    }
   ],
   "source": [
    "nyc_distance=arctern.ST_DistanceSphere(arctern.ST_Point(in_nyc_df.pickup_longitude,\n",
    "                                                        in_nyc_df.pickup_latitude),\n",
    "                                       arctern.ST_Point(in_nyc_df.dropoff_longitude,\n",
    "                                                        in_nyc_df.dropoff_latitude))\n",
    "nyc_distance.index=in_nyc_df.index\n",
    "nyc_distance.describe()"
   ]
  },
  {
   "cell_type": "markdown",
   "metadata": {},
   "source": [
    "获得直线距离大于 20 公里的点，并绘制所有直线距离大于 20 公里的上车点和下车点："
   ]
  },
  {
   "cell_type": "code",
   "execution_count": 12,
   "metadata": {},
   "outputs": [
    {
     "name": "stdout",
     "output_type": "stream",
     "text": [
      "User Guide: https://docs.kepler.gl/docs/keplergl-jupyter\n"
     ]
    },
    {
     "data": {
      "application/vnd.jupyter.widget-view+json": {
       "model_id": "c236a42d06cf401eb4066251535132ea",
       "version_major": 2,
       "version_minor": 0
      },
      "text/plain": [
       "KeplerGl(data={'pickup':                             pickup\n",
       "0     POINT (-73.781487 40.644855)\n",
       "1     POINT (-7…"
      ]
     },
     "metadata": {},
     "output_type": "display_data"
    }
   ],
   "source": [
    "nyc_with_distance=pd.DataFrame({\"pickup_longitude\":in_nyc_df.pickup_longitude,\n",
    "                                \"pickup_latitude\":in_nyc_df.pickup_latitude,\n",
    "                                \"dropoff_longitude\":in_nyc_df.dropoff_longitude,\n",
    "                                \"dropoff_latitude\":in_nyc_df.dropoff_latitude,\n",
    "                                \"sphere_distance\":nyc_distance\n",
    "                               })\n",
    "\n",
    "nyc_dist_gt = nyc_with_distance[nyc_with_distance.sphere_distance > 20e3]\n",
    "pickup_gt = arctern.ST_Point(nyc_dist_gt.pickup_longitude,nyc_dist_gt.pickup_latitude)\n",
    "dropoff_gt = arctern.ST_Point(nyc_dist_gt.dropoff_longitude,nyc_dist_gt.dropoff_latitude)\n",
    "\n",
    "KeplerGl(data={\"pickup\": pd.DataFrame(data={'pickup':arctern.ST_AsText(pickup_gt)}),\n",
    "               \"dropoff\":pd.DataFrame(data={'dropoff':arctern.ST_AsText(dropoff_gt)})\n",
    "              })"
   ]
  },
  {
   "cell_type": "code",
   "execution_count": null,
   "metadata": {},
   "outputs": [],
   "source": [
    "import arctern\n",
    "from keplergl import KeplerGl\n",
    "import json\n",
    "\n",
    "pickup_points = arctern.ST_Point(nyc_df.pickup_longitude,nyc_df.pickup_latitude)\n",
    "config\n",
    "KeplerGl(data={\"pickup_points\": pd.DataFrame(data={'pickup_points':arctern.ST_AsText(pickup_points)})},config=)"
   ]
  },
  {
   "cell_type": "code",
   "execution_count": null,
   "metadata": {},
   "outputs": [],
   "source": []
  },
  {
   "cell_type": "code",
   "execution_count": 3,
   "metadata": {},
   "outputs": [
    {
     "name": "stdout",
     "output_type": "stream",
     "text": [
      "User Guide: https://docs.kepler.gl/docs/keplergl-jupyter\n"
     ]
    },
    {
     "data": {
      "application/vnd.jupyter.widget-view+json": {
       "model_id": "3105729e6108455199e9757618392af9",
       "version_major": 2,
       "version_minor": 0
      },
      "text/plain": [
       "KeplerGl(config={'version': 'v1', 'config': {'visState': {'filters': [], 'layers': [{'id': '0cbr95h', 'type': …"
      ]
     },
     "metadata": {},
     "output_type": "display_data"
    }
   ],
   "source": [
    "import arctern\n",
    "from keplergl import KeplerGl\n",
    "import json\n",
    "\n",
    "pickup_points = arctern.ST_Point(nyc_df.pickup_longitude,nyc_df.pickup_latitude)\n",
    "with open(\"/home/xge/xge-zilliz/arctern-bootcamp/nytaxi/nyc.json\", \"r\") as f:\n",
    "    config = json.load(f)\n",
    "KeplerGl(data={\"pickup_points\": pd.DataFrame(data={'pickup_points':arctern.ST_AsText(pickup_points)})},config=config)"
   ]
  },
  {
   "cell_type": "code",
   "execution_count": 4,
   "metadata": {},
   "outputs": [],
   "source": [
    "import pandas as pd\n",
    "\n",
    "road_df=pd.read_csv(\"/tmp/nyc_road.csv\", dtype={\"roads\":\"string\"}, delimiter='|')\n",
    "# road_df.head(20)\n"
   ]
  },
  {
   "cell_type": "code",
   "execution_count": 5,
   "metadata": {},
   "outputs": [
    {
     "name": "stdout",
     "output_type": "stream",
     "text": [
      "<class 'pandas.core.series.Series'>\n"
     ]
    }
   ],
   "source": [
    "print(type(road_df.roads))"
   ]
  },
  {
   "cell_type": "code",
   "execution_count": null,
   "metadata": {},
   "outputs": [],
   "source": [
    "import arctern\n",
    "projectioned_point = arctern.nearest_location_on_road(arctern.ST_GeomFromText(road_df.roads), pickup_points)\n",
    "projectioned_point.head(10)"
   ]
  },
  {
   "cell_type": "code",
   "execution_count": null,
   "metadata": {},
   "outputs": [],
   "source": [
    "with open(\"/home/xge/xge-zilliz/arctern-bootcamp/nytaxi/nyc.json\", \"r\") as f:\n",
    "    config = json.load(f)\n",
    "KeplerGl(data={\"projectioned_point\": pd.DataFrame(data={'projectioned_point':arctern.ST_AsText(projectioned_point)})},config=config)"
   ]
  }
 ],
 "metadata": {
  "kernelspec": {
   "display_name": "Python 3",
   "language": "python",
   "name": "python3"
  },
  "language_info": {
   "codemirror_mode": {
    "name": "ipython",
    "version": 3
   },
   "file_extension": ".py",
   "mimetype": "text/x-python",
   "name": "python",
   "nbconvert_exporter": "python",
   "pygments_lexer": "ipython3",
   "version": "3.8.2"
  }
 },
 "nbformat": 4,
 "nbformat_minor": 4
}
