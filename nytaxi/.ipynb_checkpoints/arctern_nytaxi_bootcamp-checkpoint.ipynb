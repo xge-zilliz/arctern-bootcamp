{
 "cells": [
  {
   "cell_type": "markdown",
   "metadata": {},
   "source": [
    "本文将介绍如何利用 Arctern 处理纽约出租车数据，同时结合 Keplergl 展示数据。\n",
    "\n",
    "首先需要加载数据："
   ]
  },
  {
   "cell_type": "code",
   "execution_count": 1,
   "metadata": {},
   "outputs": [],
   "source": [
    "import pandas as pd\n",
    "nyc_schame={\n",
    "    \"VendorID\":\"string\",\n",
    "    \"tpep_pickup_datetime\":\"string\",\n",
    "    \"tpep_dropoff_datetime\":\"string\",\n",
    "    \"passenger_count\":\"int64\",\n",
    "    \"trip_distance\":\"double\",\n",
    "    \"pickup_longitude\":\"double\",\n",
    "    \"pickup_latitude\":\"double\",\n",
    "    \"dropoff_longitude\":\"double\",\n",
    "    \"dropoff_latitude\":\"double\",\n",
    "    \"fare_amount\":\"double\",\n",
    "    \"tip_amount\":\"double\",\n",
    "    \"total_amount\":\"double\",\n",
    "    \"buildingid_pickup\":\"int64\",\n",
    "    \"buildingid_dropoff\":\"int64\",\n",
    "    \"buildingtext_pickup\":\"string\",\n",
    "    \"buildingtext_dropoff\":\"string\",\n",
    "}\n",
    "nyc_df=pd.read_csv(\"/tmp/0_2M_nyc_taxi_and_building.csv\",\n",
    "               dtype=nyc_schame,\n",
    "               date_parser=pd.to_datetime,\n",
    "               parse_dates=[\"tpep_pickup_datetime\",\"tpep_dropoff_datetime\"])"
   ]
  },
  {
   "cell_type": "markdown",
   "metadata": {},
   "source": [
    "展示所有上车点的位置："
   ]
  },
  {
   "cell_type": "code",
   "execution_count": null,
   "metadata": {},
   "outputs": [],
   "source": [
    "import arctern\n",
    "from keplergl import KeplerGl\n",
    "\n",
    "pickup_points = arctern.ST_Point(nyc_df.pickup_longitude,nyc_df.pickup_latitude)\n",
    "KeplerGl(data={\"pickup_points\": pd.DataFrame(data={'pickup_points':arctern.ST_AsText(pickup_points)})})"
   ]
  },
  {
   "cell_type": "markdown",
   "metadata": {},
   "source": [
    "返回的结果在地图上支持交互操作，可以发现输入的出租车数据存有噪点，有些上车点已经到海面上了，实际上所有数据应该都集中在陆地上才是合理的，这些噪点数据就需要我们通过一定的方法进行过滤。\n",
    "\n",
    "为了正确分析纽约市区中的出租车数据，接下来我们会根据纽约市的地形图来过滤数据，即不在纽约市地图中的数据视为噪点数据并进行过滤。"
   ]
  },
  {
   "cell_type": "markdown",
   "metadata": {},
   "source": [
    "首先我们读取纽约市的地形数据图，该地形数据是以 GeoJSON 格式存储的，首先使用 Arctern 解析 GeoJSON 数据："
   ]
  },
  {
   "cell_type": "code",
   "execution_count": null,
   "metadata": {},
   "outputs": [],
   "source": [
    "import shapefile\n",
    "import json\n",
    "# 读取纽约市的地形数据图\n",
    "nyc_shape = shapefile.Reader(\"/tmp/taxi_zones/taxi_zones.shp\")\n",
    "nyc_zone=[ shp.shape.__geo_interface__  for shp in nyc_shape.shapeRecords()]\n",
    "nyc_zone=[json.dumps(shp) for shp in nyc_zone]\n",
    "# 使用 Arctern 读取数据\n",
    "nyc_zone_series=pd.Series(nyc_zone)\n",
    "nyc_zone_arctern=arctern.ST_GeomFromGeoJSON(nyc_zone_series)\n",
    "arctern.ST_AsText(nyc_zone_arctern)"
   ]
  },
  {
   "cell_type": "markdown",
   "metadata": {},
   "source": [
    "获得当前纽约市地形数据文件的坐标系，并利用 Arctern 将该坐标系转成经纬度坐标系，即 “EPSG:4326” ："
   ]
  },
  {
   "cell_type": "code",
   "execution_count": null,
   "metadata": {},
   "outputs": [],
   "source": [
    "from sridentify import Sridentify\n",
    "ident = Sridentify()\n",
    "ident.from_file('/tmp/taxi_zones/taxi_zones.prj')\n",
    "src_crs = ident.get_epsg()\n",
    "nyc_arctern_4326 = arctern.ST_Transform(nyc_zone_arctern,f'EPSG:{src_crs}','EPSG:4326')\n",
    "arctern.ST_AsText(nyc_arctern_4326)"
   ]
  },
  {
   "cell_type": "markdown",
   "metadata": {},
   "source": [
    "根据转换后的经纬度坐标，绘制的纽约市地形图："
   ]
  },
  {
   "cell_type": "code",
   "execution_count": null,
   "metadata": {},
   "outputs": [],
   "source": [
    "KeplerGl(data={\"nyc_zones\": pd.DataFrame(data={'nyc_zones':arctern.ST_AsText(nyc_arctern_4326)})})"
   ]
  },
  {
   "cell_type": "markdown",
   "metadata": {},
   "source": [
    "为了分析纽约市区中的出租车数据，根据纽约市的地形图，我们认为不在图内的点即为噪点，以此过滤出租车数据中的噪点，首先我们根据纽约市区的轮廓图对上车点进行过滤："
   ]
  },
  {
   "cell_type": "code",
   "execution_count": null,
   "metadata": {},
   "outputs": [],
   "source": [
    "# 该步骤会比较耗时\n",
    "nyc_arctern_one = arctern.ST_Union_Aggr(nyc_arctern_4326)\n",
    "nyc_arctern_one = arctern.ST_SimplifyPreserveTopology(nyc_arctern_one,0.005)\n",
    "is_in_nyc = arctern.ST_Within(pickup_points,nyc_arctern_one[0])\n",
    "pickup_in_nyc = pickup_points[pd.Series(is_in_nyc)]"
   ]
  },
  {
   "cell_type": "markdown",
   "metadata": {},
   "source": [
    "绘制出数据过滤后的上车点："
   ]
  },
  {
   "cell_type": "code",
   "execution_count": null,
   "metadata": {},
   "outputs": [],
   "source": [
    "KeplerGl(data={\"pickup_points\": pd.DataFrame(data={'pickup_points':arctern.ST_AsText(pickup_in_nyc)})})"
   ]
  },
  {
   "cell_type": "markdown",
   "metadata": {},
   "source": [
    "根据同样的方法，对乘客的下车点进行过滤："
   ]
  },
  {
   "cell_type": "code",
   "execution_count": null,
   "metadata": {},
   "outputs": [],
   "source": [
    "# 该步骤会比较耗时\n",
    "dropoff_points = arctern.ST_Point(nyc_df.dropoff_longitude,nyc_df.dropoff_latitude)\n",
    "is_dorpoff_in_nyc = arctern.ST_Within(dropoff_points,nyc_arctern_one[0])\n",
    "dropoff_in_nyc=dropoff_points[is_dorpoff_in_nyc]\n",
    "KeplerGl(data={\"drop_points\": pd.DataFrame(data={'drop_points':arctern.ST_AsText(dropoff_in_nyc)})})"
   ]
  },
  {
   "cell_type": "markdown",
   "metadata": {},
   "source": [
    "根据上车点和下车点经纬度数据，在最初的数据上过滤所有的非法数据："
   ]
  },
  {
   "cell_type": "code",
   "execution_count": null,
   "metadata": {},
   "outputs": [],
   "source": [
    "is_resonable = [is_dorpoff_in_nyc[idx] & is_in_nyc[idx] for idx in range(0,len(is_in_nyc)) ]\n",
    "in_nyc_df=nyc_df[pd.Series(is_resonable)]\n",
    "in_nyc_df.fare_amount.describe()"
   ]
  },
  {
   "cell_type": "markdown",
   "metadata": {},
   "source": [
    "通过观察过滤后的数据，我们发现很多上车点的位置和道路有一些偏差，甚至偏离到某些建筑物内,我们认为离道路较远的数据同样为噪点(默认离道路距离大于100m视为较远)，首先我们根据纽约市的道路网对上车点和下车点进行过滤："
   ]
  },
  {
   "cell_type": "markdown",
   "metadata": {},
   "source": [
    "加载纽约市道路网："
   ]
  },
  {
   "cell_type": "code",
   "execution_count": 3,
   "metadata": {},
   "outputs": [],
   "source": [
    "import arctern\n",
    "nyc_road=pd.read_csv(\"/tmp/nyc_road.csv\", dtype={\"roads\":\"string\"}, delimiter='|')\n",
    "roads=arctern.ST_GeomFromText(nyc_road.roads)"
   ]
  },
  {
   "cell_type": "markdown",
   "metadata": {},
   "source": [
    "根据租车数据是否在道路附近进行过滤："
   ]
  },
  {
   "cell_type": "code",
   "execution_count": 4,
   "metadata": {},
   "outputs": [
    {
     "data": {
      "text/html": [
       "<div>\n",
       "<style scoped>\n",
       "    .dataframe tbody tr th:only-of-type {\n",
       "        vertical-align: middle;\n",
       "    }\n",
       "\n",
       "    .dataframe tbody tr th {\n",
       "        vertical-align: top;\n",
       "    }\n",
       "\n",
       "    .dataframe thead th {\n",
       "        text-align: right;\n",
       "    }\n",
       "</style>\n",
       "<table border=\"1\" class=\"dataframe\">\n",
       "  <thead>\n",
       "    <tr style=\"text-align: right;\">\n",
       "      <th></th>\n",
       "      <th>VendorID</th>\n",
       "      <th>tpep_pickup_datetime</th>\n",
       "      <th>tpep_dropoff_datetime</th>\n",
       "      <th>passenger_count</th>\n",
       "      <th>trip_distance</th>\n",
       "      <th>pickup_longitude</th>\n",
       "      <th>pickup_latitude</th>\n",
       "      <th>dropoff_longitude</th>\n",
       "      <th>dropoff_latitude</th>\n",
       "      <th>fare_amount</th>\n",
       "      <th>tip_amount</th>\n",
       "      <th>total_amount</th>\n",
       "      <th>buildingid_pickup</th>\n",
       "      <th>buildingid_dropoff</th>\n",
       "      <th>buildingtext_pickup</th>\n",
       "      <th>buildingtext_dropoff</th>\n",
       "    </tr>\n",
       "  </thead>\n",
       "  <tbody>\n",
       "    <tr>\n",
       "      <th>0</th>\n",
       "      <td>CMT</td>\n",
       "      <td>2009-04-12 03:16:33+00:00</td>\n",
       "      <td>2009-04-12 03:20:32+00:00</td>\n",
       "      <td>1</td>\n",
       "      <td>1.40</td>\n",
       "      <td>-73.993003</td>\n",
       "      <td>40.747594</td>\n",
       "      <td>-73.983609</td>\n",
       "      <td>40.760426</td>\n",
       "      <td>5.8</td>\n",
       "      <td>0.0</td>\n",
       "      <td>5.8</td>\n",
       "      <td>0</td>\n",
       "      <td>0</td>\n",
       "      <td>&lt;NA&gt;</td>\n",
       "      <td>&lt;NA&gt;</td>\n",
       "    </tr>\n",
       "    <tr>\n",
       "      <th>1</th>\n",
       "      <td>VTS</td>\n",
       "      <td>2009-04-14 11:22:00+00:00</td>\n",
       "      <td>2009-04-14 11:38:00+00:00</td>\n",
       "      <td>1</td>\n",
       "      <td>2.14</td>\n",
       "      <td>-73.959908</td>\n",
       "      <td>40.776353</td>\n",
       "      <td>-73.983480</td>\n",
       "      <td>40.759042</td>\n",
       "      <td>10.1</td>\n",
       "      <td>2.0</td>\n",
       "      <td>12.1</td>\n",
       "      <td>0</td>\n",
       "      <td>150047</td>\n",
       "      <td>&lt;NA&gt;</td>\n",
       "      <td>POLYGON ((-73.9833003295812 40.7590607716671,-...</td>\n",
       "    </tr>\n",
       "    <tr>\n",
       "      <th>2</th>\n",
       "      <td>CMT</td>\n",
       "      <td>2009-04-15 09:34:58+00:00</td>\n",
       "      <td>2009-04-15 09:49:35+00:00</td>\n",
       "      <td>1</td>\n",
       "      <td>2.70</td>\n",
       "      <td>-73.955183</td>\n",
       "      <td>40.773459</td>\n",
       "      <td>-73.985134</td>\n",
       "      <td>40.759251</td>\n",
       "      <td>10.1</td>\n",
       "      <td>1.0</td>\n",
       "      <td>11.1</td>\n",
       "      <td>0</td>\n",
       "      <td>0</td>\n",
       "      <td>&lt;NA&gt;</td>\n",
       "      <td>&lt;NA&gt;</td>\n",
       "    </tr>\n",
       "    <tr>\n",
       "      <th>3</th>\n",
       "      <td>CMT</td>\n",
       "      <td>2009-04-30 18:58:19+00:00</td>\n",
       "      <td>2009-04-30 19:05:27+00:00</td>\n",
       "      <td>1</td>\n",
       "      <td>1.30</td>\n",
       "      <td>-73.985233</td>\n",
       "      <td>40.744682</td>\n",
       "      <td>-73.983244</td>\n",
       "      <td>40.758766</td>\n",
       "      <td>5.7</td>\n",
       "      <td>0.0</td>\n",
       "      <td>5.7</td>\n",
       "      <td>0</td>\n",
       "      <td>365034</td>\n",
       "      <td>&lt;NA&gt;</td>\n",
       "      <td>POLYGON ((-73.9822052908304 40.7588972120254,-...</td>\n",
       "    </tr>\n",
       "    <tr>\n",
       "      <th>4</th>\n",
       "      <td>CMT</td>\n",
       "      <td>2009-04-26 13:03:04+00:00</td>\n",
       "      <td>2009-04-26 13:27:54+00:00</td>\n",
       "      <td>1</td>\n",
       "      <td>8.20</td>\n",
       "      <td>-73.997969</td>\n",
       "      <td>40.682816</td>\n",
       "      <td>-73.983289</td>\n",
       "      <td>40.758236</td>\n",
       "      <td>21.7</td>\n",
       "      <td>0.0</td>\n",
       "      <td>21.7</td>\n",
       "      <td>0</td>\n",
       "      <td>0</td>\n",
       "      <td>&lt;NA&gt;</td>\n",
       "      <td>&lt;NA&gt;</td>\n",
       "    </tr>\n",
       "    <tr>\n",
       "      <th>5</th>\n",
       "      <td>VTS</td>\n",
       "      <td>2009-04-03 02:56:00+00:00</td>\n",
       "      <td>2009-04-03 03:11:00+00:00</td>\n",
       "      <td>5</td>\n",
       "      <td>2.76</td>\n",
       "      <td>-73.996458</td>\n",
       "      <td>40.758197</td>\n",
       "      <td>-73.987072</td>\n",
       "      <td>40.759525</td>\n",
       "      <td>10.1</td>\n",
       "      <td>0.0</td>\n",
       "      <td>10.6</td>\n",
       "      <td>0</td>\n",
       "      <td>342186</td>\n",
       "      <td>&lt;NA&gt;</td>\n",
       "      <td>POLYGON ((-73.9869173687449 40.7597622353379,-...</td>\n",
       "    </tr>\n",
       "    <tr>\n",
       "      <th>6</th>\n",
       "      <td>VTS</td>\n",
       "      <td>2009-04-02 17:03:00+00:00</td>\n",
       "      <td>2009-04-02 17:07:00+00:00</td>\n",
       "      <td>3</td>\n",
       "      <td>0.76</td>\n",
       "      <td>-73.988240</td>\n",
       "      <td>40.748960</td>\n",
       "      <td>-73.981068</td>\n",
       "      <td>40.759423</td>\n",
       "      <td>4.5</td>\n",
       "      <td>0.0</td>\n",
       "      <td>5.5</td>\n",
       "      <td>0</td>\n",
       "      <td>0</td>\n",
       "      <td>&lt;NA&gt;</td>\n",
       "      <td>&lt;NA&gt;</td>\n",
       "    </tr>\n",
       "    <tr>\n",
       "      <th>7</th>\n",
       "      <td>VTS</td>\n",
       "      <td>2009-04-23 08:10:00+00:00</td>\n",
       "      <td>2009-04-23 08:21:00+00:00</td>\n",
       "      <td>1</td>\n",
       "      <td>1.99</td>\n",
       "      <td>-73.985185</td>\n",
       "      <td>40.735828</td>\n",
       "      <td>-73.981580</td>\n",
       "      <td>40.759552</td>\n",
       "      <td>7.7</td>\n",
       "      <td>0.0</td>\n",
       "      <td>7.7</td>\n",
       "      <td>0</td>\n",
       "      <td>0</td>\n",
       "      <td>&lt;NA&gt;</td>\n",
       "      <td>&lt;NA&gt;</td>\n",
       "    </tr>\n",
       "    <tr>\n",
       "      <th>8</th>\n",
       "      <td>CMT</td>\n",
       "      <td>2009-04-21 12:18:15+00:00</td>\n",
       "      <td>2009-04-21 12:29:33+00:00</td>\n",
       "      <td>1</td>\n",
       "      <td>0.90</td>\n",
       "      <td>-73.989726</td>\n",
       "      <td>40.767795</td>\n",
       "      <td>-73.982844</td>\n",
       "      <td>40.759284</td>\n",
       "      <td>7.3</td>\n",
       "      <td>0.0</td>\n",
       "      <td>7.3</td>\n",
       "      <td>123894</td>\n",
       "      <td>0</td>\n",
       "      <td>POLYGON ((-73.989754263774 40.7677468202825,-7...</td>\n",
       "      <td>&lt;NA&gt;</td>\n",
       "    </tr>\n",
       "    <tr>\n",
       "      <th>9</th>\n",
       "      <td>CMT</td>\n",
       "      <td>2009-04-10 08:54:21+00:00</td>\n",
       "      <td>2009-04-10 09:07:14+00:00</td>\n",
       "      <td>1</td>\n",
       "      <td>1.30</td>\n",
       "      <td>-73.992669</td>\n",
       "      <td>40.768327</td>\n",
       "      <td>-73.982507</td>\n",
       "      <td>40.758157</td>\n",
       "      <td>8.1</td>\n",
       "      <td>0.0</td>\n",
       "      <td>8.1</td>\n",
       "      <td>0</td>\n",
       "      <td>0</td>\n",
       "      <td>&lt;NA&gt;</td>\n",
       "      <td>&lt;NA&gt;</td>\n",
       "    </tr>\n",
       "  </tbody>\n",
       "</table>\n",
       "</div>"
      ],
      "text/plain": [
       "  VendorID      tpep_pickup_datetime     tpep_dropoff_datetime  \\\n",
       "0      CMT 2009-04-12 03:16:33+00:00 2009-04-12 03:20:32+00:00   \n",
       "1      VTS 2009-04-14 11:22:00+00:00 2009-04-14 11:38:00+00:00   \n",
       "2      CMT 2009-04-15 09:34:58+00:00 2009-04-15 09:49:35+00:00   \n",
       "3      CMT 2009-04-30 18:58:19+00:00 2009-04-30 19:05:27+00:00   \n",
       "4      CMT 2009-04-26 13:03:04+00:00 2009-04-26 13:27:54+00:00   \n",
       "5      VTS 2009-04-03 02:56:00+00:00 2009-04-03 03:11:00+00:00   \n",
       "6      VTS 2009-04-02 17:03:00+00:00 2009-04-02 17:07:00+00:00   \n",
       "7      VTS 2009-04-23 08:10:00+00:00 2009-04-23 08:21:00+00:00   \n",
       "8      CMT 2009-04-21 12:18:15+00:00 2009-04-21 12:29:33+00:00   \n",
       "9      CMT 2009-04-10 08:54:21+00:00 2009-04-10 09:07:14+00:00   \n",
       "\n",
       "   passenger_count  trip_distance  pickup_longitude  pickup_latitude  \\\n",
       "0                1           1.40        -73.993003        40.747594   \n",
       "1                1           2.14        -73.959908        40.776353   \n",
       "2                1           2.70        -73.955183        40.773459   \n",
       "3                1           1.30        -73.985233        40.744682   \n",
       "4                1           8.20        -73.997969        40.682816   \n",
       "5                5           2.76        -73.996458        40.758197   \n",
       "6                3           0.76        -73.988240        40.748960   \n",
       "7                1           1.99        -73.985185        40.735828   \n",
       "8                1           0.90        -73.989726        40.767795   \n",
       "9                1           1.30        -73.992669        40.768327   \n",
       "\n",
       "   dropoff_longitude  dropoff_latitude  fare_amount  tip_amount  total_amount  \\\n",
       "0         -73.983609         40.760426          5.8         0.0           5.8   \n",
       "1         -73.983480         40.759042         10.1         2.0          12.1   \n",
       "2         -73.985134         40.759251         10.1         1.0          11.1   \n",
       "3         -73.983244         40.758766          5.7         0.0           5.7   \n",
       "4         -73.983289         40.758236         21.7         0.0          21.7   \n",
       "5         -73.987072         40.759525         10.1         0.0          10.6   \n",
       "6         -73.981068         40.759423          4.5         0.0           5.5   \n",
       "7         -73.981580         40.759552          7.7         0.0           7.7   \n",
       "8         -73.982844         40.759284          7.3         0.0           7.3   \n",
       "9         -73.982507         40.758157          8.1         0.0           8.1   \n",
       "\n",
       "   buildingid_pickup  buildingid_dropoff  \\\n",
       "0                  0                   0   \n",
       "1                  0              150047   \n",
       "2                  0                   0   \n",
       "3                  0              365034   \n",
       "4                  0                   0   \n",
       "5                  0              342186   \n",
       "6                  0                   0   \n",
       "7                  0                   0   \n",
       "8             123894                   0   \n",
       "9                  0                   0   \n",
       "\n",
       "                                 buildingtext_pickup  \\\n",
       "0                                               <NA>   \n",
       "1                                               <NA>   \n",
       "2                                               <NA>   \n",
       "3                                               <NA>   \n",
       "4                                               <NA>   \n",
       "5                                               <NA>   \n",
       "6                                               <NA>   \n",
       "7                                               <NA>   \n",
       "8  POLYGON ((-73.989754263774 40.7677468202825,-7...   \n",
       "9                                               <NA>   \n",
       "\n",
       "                                buildingtext_dropoff  \n",
       "0                                               <NA>  \n",
       "1  POLYGON ((-73.9833003295812 40.7590607716671,-...  \n",
       "2                                               <NA>  \n",
       "3  POLYGON ((-73.9822052908304 40.7588972120254,-...  \n",
       "4                                               <NA>  \n",
       "5  POLYGON ((-73.9869173687449 40.7597622353379,-...  \n",
       "6                                               <NA>  \n",
       "7                                               <NA>  \n",
       "8                                               <NA>  \n",
       "9                                               <NA>  "
      ]
     },
     "execution_count": 4,
     "metadata": {},
     "output_type": "execute_result"
    }
   ],
   "source": [
    "pickup_points = arctern.ST_Point(nyc_df.pickup_longitude,nyc_df.pickup_latitude)\n",
    "dropoff_points = arctern.ST_Point(nyc_df.dropoff_longitude,nyc_df.dropoff_latitude)\n",
    "is_pickup_near_road = arctern.near_road(roads, pickup_points)\n",
    "is_dropoff_near_road = arctern.near_road(roads, dropoff_points)\n",
    "is_resonable = [is_pickup_near_road[idx] & is_dropoff_near_road[idx] for idx in range(0,len(is_dropoff_near_road)) ]\n",
    "on_road_nyc_df=nyc_df[pd.Series(is_resonable)]\n",
    "on_road_nyc_df.head(10)"
   ]
  },
  {
   "cell_type": "markdown",
   "metadata": {},
   "source": [
    "将过滤后的上车点绑定到最近的道路上，生成新的上车点："
   ]
  },
  {
   "cell_type": "code",
   "execution_count": 5,
   "metadata": {},
   "outputs": [],
   "source": [
    "pickup_points = arctern.ST_Point(on_road_nyc_df.pickup_longitude,on_road_nyc_df.pickup_latitude)\n",
    "projectioned_pickup = arctern.nearest_location_on_road(roads, pickup_points)"
   ]
  },
  {
   "cell_type": "markdown",
   "metadata": {},
   "source": [
    "绘制出数据绑定道路后的上车点："
   ]
  },
  {
   "cell_type": "code",
   "execution_count": 6,
   "metadata": {},
   "outputs": [
    {
     "name": "stdout",
     "output_type": "stream",
     "text": [
      "User Guide: https://docs.kepler.gl/docs/keplergl-jupyter\n"
     ]
    },
    {
     "data": {
      "application/vnd.jupyter.widget-view+json": {
       "model_id": "e0a1600152d641b98252ebabd06efc57",
       "version_major": 2,
       "version_minor": 0
      },
      "text/plain": [
       "KeplerGl(config={'version': 'v1', 'config': {'visState': {'filters': [], 'layers': [{'id': '0cbr95h', 'type': …"
      ]
     },
     "metadata": {},
     "output_type": "display_data"
    }
   ],
   "source": [
    "import json\n",
    "from keplergl import KeplerGl\n",
    "with open(\"map_config.json\", \"r\") as f:\n",
    "    config = json.load(f)\n",
    "KeplerGl(data={\"projectioned_point\": pd.DataFrame(data={'projectioned_point':arctern.ST_AsText(projectioned_pickup)})},config=config)"
   ]
  },
  {
   "cell_type": "markdown",
   "metadata": {},
   "source": [
    "将过滤后的下车点绑定到最近的道路上，生成新的下车点："
   ]
  },
  {
   "cell_type": "code",
   "execution_count": 7,
   "metadata": {},
   "outputs": [
    {
     "data": {
      "text/plain": [
       "0    b'\\x01\\x01\\x00\\x00\\x00\\x1f6\\x83x\\xf3~R\\xc0\\xe9...\n",
       "1    b'\\x01\\x01\\x00\\x00\\x00\\xf7]\\x840\\xf3~R\\xc0\\xb9...\n",
       "2    b'\\x01\\x01\\x00\\x00\\x006\\x98ud\\x0b\\x7fR\\xc0\\xcb...\n",
       "3    b'\\x01\\x01\\x00\\x00\\x00O\\xe9\\xb5I\\xee~R\\xc0a\\x8...\n",
       "4    b'\\x01\\x01\\x00\\x00\\x00-\\x08\\xb8\\x9c\\xf0~R\\xc0\\...\n",
       "5    b'\\x01\\x01\\x00\\x00\\x00J^H\\xc5,\\x7fR\\xc0r\\xe2\\x...\n",
       "6    b'\\x01\\x01\\x00\\x00\\x00,N\\\\;\\xca~R\\xc0\\x87\\xb8\\...\n",
       "7    b'\\x01\\x01\\x00\\x00\\x00<\\xe7\\xdf\\x1c\\xd2~R\\xc0(...\n",
       "8    b'\\x01\\x01\\x00\\x00\\x00\\xf03a\\xf5\\xe6~R\\xc0\\x1c...\n",
       "9    b'\\x01\\x01\\x00\\x00\\x00i\\xeb\\xbfu\\xe0~R\\xc0\\xc6...\n",
       "dtype: object"
      ]
     },
     "execution_count": 7,
     "metadata": {},
     "output_type": "execute_result"
    }
   ],
   "source": [
    "dropoff_points = arctern.ST_Point(on_road_nyc_df.dropoff_longitude,on_road_nyc_df.dropoff_latitude)\n",
    "projectioned_dropoff = arctern.nearest_location_on_road(roads, dropoff_points)\n",
    "projectioned_dropoff.head(10)"
   ]
  },
  {
   "cell_type": "markdown",
   "metadata": {},
   "source": [
    "绘制出数据绑定道路后的上车点："
   ]
  },
  {
   "cell_type": "code",
   "execution_count": 8,
   "metadata": {},
   "outputs": [
    {
     "name": "stdout",
     "output_type": "stream",
     "text": [
      "User Guide: https://docs.kepler.gl/docs/keplergl-jupyter\n"
     ]
    },
    {
     "data": {
      "application/vnd.jupyter.widget-view+json": {
       "model_id": "987eef9eb47741cc99bef41d733fd17c",
       "version_major": 2,
       "version_minor": 0
      },
      "text/plain": [
       "KeplerGl(config={'version': 'v1', 'config': {'visState': {'filters': [], 'layers': [{'id': '0cbr95h', 'type': …"
      ]
     },
     "metadata": {},
     "output_type": "display_data"
    }
   ],
   "source": [
    "with open(\"map_config.json\", \"r\") as f:\n",
    "    config = json.load(f)\n",
    "KeplerGl(data={\"projectioned_point\": pd.DataFrame(data={'projectioned_point':arctern.ST_AsText(projectioned_dropoff)})},config=config)"
   ]
  },
  {
   "cell_type": "markdown",
   "metadata": {},
   "source": [
    "将绑路后的乘客上下车位置信息添加到dataframe near_road_df 中："
   ]
  },
  {
   "cell_type": "code",
   "execution_count": 9,
   "metadata": {},
   "outputs": [
    {
     "data": {
      "text/html": [
       "<div>\n",
       "<style scoped>\n",
       "    .dataframe tbody tr th:only-of-type {\n",
       "        vertical-align: middle;\n",
       "    }\n",
       "\n",
       "    .dataframe tbody tr th {\n",
       "        vertical-align: top;\n",
       "    }\n",
       "\n",
       "    .dataframe thead th {\n",
       "        text-align: right;\n",
       "    }\n",
       "</style>\n",
       "<table border=\"1\" class=\"dataframe\">\n",
       "  <thead>\n",
       "    <tr style=\"text-align: right;\">\n",
       "      <th></th>\n",
       "      <th>VendorID</th>\n",
       "      <th>tpep_pickup_datetime</th>\n",
       "      <th>tpep_dropoff_datetime</th>\n",
       "      <th>passenger_count</th>\n",
       "      <th>trip_distance</th>\n",
       "      <th>pickup_longitude</th>\n",
       "      <th>pickup_latitude</th>\n",
       "      <th>dropoff_longitude</th>\n",
       "      <th>dropoff_latitude</th>\n",
       "      <th>fare_amount</th>\n",
       "      <th>tip_amount</th>\n",
       "      <th>total_amount</th>\n",
       "      <th>buildingid_pickup</th>\n",
       "      <th>buildingid_dropoff</th>\n",
       "      <th>buildingtext_pickup</th>\n",
       "      <th>buildingtext_dropoff</th>\n",
       "      <th>pickup_on_road</th>\n",
       "      <th>dropoff_on_road</th>\n",
       "    </tr>\n",
       "  </thead>\n",
       "  <tbody>\n",
       "    <tr>\n",
       "      <th>0</th>\n",
       "      <td>CMT</td>\n",
       "      <td>2009-04-12 03:16:33+00:00</td>\n",
       "      <td>2009-04-12 03:20:32+00:00</td>\n",
       "      <td>1</td>\n",
       "      <td>1.4</td>\n",
       "      <td>-73.993003</td>\n",
       "      <td>40.747594</td>\n",
       "      <td>-73.983609</td>\n",
       "      <td>40.760426</td>\n",
       "      <td>5.8</td>\n",
       "      <td>0.0</td>\n",
       "      <td>5.8</td>\n",
       "      <td>0</td>\n",
       "      <td>0</td>\n",
       "      <td>&lt;NA&gt;</td>\n",
       "      <td>&lt;NA&gt;</td>\n",
       "      <td>b'\\x01\\x01\\x00\\x00\\x00=SQi\\x8e\\x7fR\\xc0\\x9a\\xe...</td>\n",
       "      <td>b'\\x01\\x01\\x00\\x00\\x00\\x1f6\\x83x\\xf3~R\\xc0\\xe9...</td>\n",
       "    </tr>\n",
       "  </tbody>\n",
       "</table>\n",
       "</div>"
      ],
      "text/plain": [
       "  VendorID      tpep_pickup_datetime     tpep_dropoff_datetime  \\\n",
       "0      CMT 2009-04-12 03:16:33+00:00 2009-04-12 03:20:32+00:00   \n",
       "\n",
       "   passenger_count  trip_distance  pickup_longitude  pickup_latitude  \\\n",
       "0                1            1.4        -73.993003        40.747594   \n",
       "\n",
       "   dropoff_longitude  dropoff_latitude  fare_amount  tip_amount  total_amount  \\\n",
       "0         -73.983609         40.760426          5.8         0.0           5.8   \n",
       "\n",
       "   buildingid_pickup  buildingid_dropoff buildingtext_pickup  \\\n",
       "0                  0                   0                <NA>   \n",
       "\n",
       "  buildingtext_dropoff                                     pickup_on_road  \\\n",
       "0                 <NA>  b'\\x01\\x01\\x00\\x00\\x00=SQi\\x8e\\x7fR\\xc0\\x9a\\xe...   \n",
       "\n",
       "                                     dropoff_on_road  \n",
       "0  b'\\x01\\x01\\x00\\x00\\x00\\x1f6\\x83x\\xf3~R\\xc0\\xe9...  "
      ]
     },
     "execution_count": 9,
     "metadata": {},
     "output_type": "execute_result"
    }
   ],
   "source": [
    "on_road_nyc_df.insert(16,'pickup_on_road',projectioned_pickup)\n",
    "on_road_nyc_df.insert(17,'dropoff_on_road',projectioned_dropoff)\n",
    "on_road_nyc_df.head(1)"
   ]
  },
  {
   "cell_type": "markdown",
   "metadata": {},
   "source": [
    "我们按照交易额提取费用大于 50 美元的数据，并绘制出租车的上车点和下车点："
   ]
  },
  {
   "cell_type": "code",
   "execution_count": 11,
   "metadata": {},
   "outputs": [
    {
     "name": "stdout",
     "output_type": "stream",
     "text": [
      "User Guide: https://docs.kepler.gl/docs/keplergl-jupyter\n"
     ]
    },
    {
     "data": {
      "application/vnd.jupyter.widget-view+json": {
       "model_id": "dfa8edc078a840cbad67e084548c8149",
       "version_major": 2,
       "version_minor": 0
      },
      "text/plain": [
       "KeplerGl(data={'pickup':                                          pickup\n",
       "0    POINT (-73.9467355515712 40.7807…"
      ]
     },
     "metadata": {},
     "output_type": "display_data"
    }
   ],
   "source": [
    "fare_amount_gt_50 = on_road_nyc_df[on_road_nyc_df.fare_amount > 50]\n",
    "KeplerGl(data={\"pickup\": pd.DataFrame(data={'pickup':arctern.ST_AsText(fare_amount_gt_50.pickup_on_road)}),\n",
    "               \"dropoff\":pd.DataFrame(data={'dropoff':arctern.ST_AsText(fare_amount_gt_50.dropoff_on_road)})\n",
    "              })"
   ]
  },
  {
   "cell_type": "markdown",
   "metadata": {},
   "source": [
    "我们还可以计算上车点和下车点的直线距离："
   ]
  },
  {
   "cell_type": "code",
   "execution_count": 13,
   "metadata": {
    "scrolled": true
   },
   "outputs": [
    {
     "data": {
      "text/plain": [
       "count    190389.000000\n",
       "mean       3117.996011\n",
       "std        3238.874644\n",
       "min           0.000000\n",
       "25%        1225.581235\n",
       "50%        2090.943760\n",
       "75%        3736.292876\n",
       "max       35418.698339\n",
       "dtype: float64"
      ]
     },
     "execution_count": 13,
     "metadata": {},
     "output_type": "execute_result"
    }
   ],
   "source": [
    "nyc_distance=arctern.ST_DistanceSphere(on_road_nyc_df.pickup_on_road, on_road_nyc_df.dropoff_on_road)\n",
    "nyc_distance.index=on_road_nyc_df.index\n",
    "nyc_distance.describe()"
   ]
  },
  {
   "cell_type": "markdown",
   "metadata": {},
   "source": [
    "获得直线距离大于 20 公里的点，并绘制所有直线距离大于 20 公里的上车点和下车点："
   ]
  },
  {
   "cell_type": "code",
   "execution_count": 16,
   "metadata": {},
   "outputs": [
    {
     "name": "stdout",
     "output_type": "stream",
     "text": [
      "User Guide: https://docs.kepler.gl/docs/keplergl-jupyter\n"
     ]
    },
    {
     "data": {
      "application/vnd.jupyter.widget-view+json": {
       "model_id": "216737e539544fb3b39dd367c642df00",
       "version_major": 2,
       "version_minor": 0
      },
      "text/plain": [
       "KeplerGl(data={'pickup':                                           pickup\n",
       "0     POINT (-73.7814851559617 40.64…"
      ]
     },
     "metadata": {},
     "output_type": "display_data"
    }
   ],
   "source": [
    "nyc_with_distance=pd.DataFrame({\"pickup\":on_road_nyc_df.pickup_on_road,\n",
    "                                \"dropoff\":on_road_nyc_df.dropoff_on_road,\n",
    "                                \"sphere_distance\":nyc_distance\n",
    "                               })\n",
    "\n",
    "nyc_dist_gt = nyc_with_distance[nyc_with_distance.sphere_distance > 20e3]\n",
    "KeplerGl(data={\"pickup\": pd.DataFrame(data={'pickup':arctern.ST_AsText(nyc_dist_gt.pickup)}),\n",
    "               \"dropoff\":pd.DataFrame(data={'dropoff':arctern.ST_AsText(nyc_dist_gt.dropoff)})\n",
    "              })"
   ]
  },
  {
   "cell_type": "code",
   "execution_count": null,
   "metadata": {},
   "outputs": [],
   "source": []
  }
 ],
 "metadata": {
  "kernelspec": {
   "display_name": "Python 3",
   "language": "python",
   "name": "python3"
  },
  "language_info": {
   "codemirror_mode": {
    "name": "ipython",
    "version": 3
   },
   "file_extension": ".py",
   "mimetype": "text/x-python",
   "name": "python",
   "nbconvert_exporter": "python",
   "pygments_lexer": "ipython3",
   "version": "3.8.2"
  }
 },
 "nbformat": 4,
 "nbformat_minor": 4
}
